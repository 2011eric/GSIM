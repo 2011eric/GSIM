{
 "cells": [
  {
   "cell_type": "code",
   "execution_count": 3,
   "metadata": {},
   "outputs": [],
   "source": [
    "def gauss_seidel(A, b, x0, max_iterations=50):\n",
    "    n = len(A)\n",
    "    x = x0.copy()\n",
    "\n",
    "    for _ in range(max_iterations):\n",
    "        for i in range(n):\n",
    "            sum_ax = sum(A[i][j] * x[j] for j in range(n) if j != i)\n",
    "            x[i] = (b[i] - sum_ax) / A[i][i]\n",
    "    return x\n"
   ]
  },
  {
   "cell_type": "code",
   "execution_count": 52,
   "metadata": {},
   "outputs": [],
   "source": [
    "def pipelined_gauss_seidel(A, b, x0, max_iterations=100):\n",
    "    n = len(A)\n",
    "    x = x0.copy()\n",
    "    prev = []\n",
    "    for _  in range(max_iterations):\n",
    "        for i in range(0, n, 4):\n",
    "            if len(prev) > 0:\n",
    "                x[(i-1)%16] = prev.pop(0)\n",
    "            tmp = 1/20 * (b[i] + 13*((x[i-1] if i-1 >= 0 else 0) + (x[i+1] if i+1 < n else 0)) - 6 * ((x[i-2] if i-2 >= 0 else 0) + (x[i+2] if i+2 < n else 0)) + (x[i-3] if i-3 >= 0 else 0) + (x[i+3] if i+3 < n else 0)) \n",
    "            prev.append(tmp)\n",
    "        for i in range(1, n, 4):\n",
    "            x[i-1] = prev.pop(0)\n",
    "            tmp = 1/20 * (b[i] + 13*((x[i-1] if i-1 >= 0 else 0) + (x[i+1] if i+1 < n else 0)) - 6 * ((x[i-2] if i-2 >= 0 else 0) + (x[i+2] if i+2 < n else 0)) + (x[i-3] if i-3 >= 0 else 0) + (x[i+3] if i+3 < n else 0)) \n",
    "            prev.append(tmp)\n",
    "        for i in range(2, n, 4):\n",
    "            x[i-1] = prev.pop(0)\n",
    "            tmp = 1/20 * (b[i] + 13*((x[i-1] if i-1 >= 0 else 0) + (x[i+1] if i+1 < n else 0)) - 6 * ((x[i-2] if i-2 >= 0 else 0) + (x[i+2] if i+2 < n else 0)) + (x[i-3] if i-3 >= 0 else 0) + (x[i+3] if i+3 < n else 0)) \n",
    "            prev.append(tmp)\n",
    "        for i in range(3, n, 4):\n",
    "            x[i-1] = prev.pop(0)\n",
    "            if i == 11:\n",
    "                print(x)\n",
    "            tmp = 1/20 * (b[i] + 13*((x[i-1] if i-1 >= 0 else 0) + (x[i+1] if i+1 < n else 0)) - 6 * ((x[i-2] if i-2 >= 0 else 0) + (x[i+2] if i+2 < n else 0)) + (x[i-3] if i-3 >= 0 else 0) + (x[i+3] if i+3 < n else 0)) \n",
    "            prev.append(tmp)\n",
    "    \n",
    "    if len(prev) > 0:\n",
    "        for i in range(3, n, 4):\n",
    "            x[i-1] = prev.pop(0)\n",
    "    return x\n"
   ]
  },
  {
   "cell_type": "code",
   "execution_count": 43,
   "metadata": {},
   "outputs": [],
   "source": [
    "#compute Error\n",
    "def cal_error(A, b, x):\n",
    "    sum_err = 0\n",
    "    for i in range (16):\n",
    "        sum_err = sum_err + sum(A[i][j] * x[j] for j in range(16))-b[i]\n",
    "    return sum_err"
   ]
  },
  {
   "cell_type": "code",
   "execution_count": 44,
   "metadata": {},
   "outputs": [
    {
     "name": "stdout",
     "output_type": "stream",
     "text": [
      "[1.0468154694133478, 1.666200755994911, 1.4639599533046845, 1.0594622866832415, 1.0407113225051992, 1.3707400779550962, 1.803345414782936, 2.159224086975314, 2.2902221485005816, 2.1035150451155475, 1.7729249871624657, 1.4757167508545828, 1.2556864463444035, 1.0447127285100068, 0.7415307366355572, 0.33136548257733034]\n",
      "-2.3921514022973156e-06\n"
     ]
    }
   ],
   "source": [
    "A = [\n",
    "    [20, -13, 6, -1, 0, 0, 0, 0, 0, 0, 0, 0, 0, 0, 0, 0], \n",
    "    [-13, 20, -13, 6, -1, 0, 0, 0, 0, 0, 0, 0, 0, 0, 0, 0],\n",
    "    [6, -13, 20, -13, 6, -1, 0, 0, 0, 0, 0, 0, 0, 0, 0, 0],\n",
    "    [-1, 6, -13, 20, -13, 6, -1, 0, 0, 0, 0, 0, 0, 0, 0, 0],\n",
    "    [0, -1, 6, -13, 20, -13, 6, -1, 0, 0, 0, 0, 0, 0, 0, 0],\n",
    "    [0, 0, -1, 6, -13, 20, -13, 6, -1, 0, 0, 0, 0, 0, 0, 0],\n",
    "    [0, 0, 0, -1, 6, -13, 20, -13, 6, -1, 0, 0, 0, 0, 0, 0],\n",
    "    [0, 0, 0, 0, -1, 6, -13, 20, -13, 6, -1, 0, 0, 0, 0, 0],\n",
    "    [0, 0, 0, 0, 0, -1, 6, -13, 20, -13, 6, -1, 0, 0, 0, 0],\n",
    "    [0, 0, 0, 0, 0, 0, -1, 6, -13, 20, -13, 6, -1, 0, 0, 0],\n",
    "    [0, 0, 0, 0, 0, 0, 0, -1, 6, -13, 20, -13, 6, -1, 0, 0],\n",
    "    [0, 0, 0, 0, 0, 0, 0, 0, -1, 6, -13, 20, -13, 6, -1, 0],\n",
    "    [0, 0, 0, 0, 0, 0, 0, 0, 0, -1, 6, -13, 20, -13, 6, -1],\n",
    "    [0, 0, 0, 0, 0, 0, 0, 0, 0, 0, -1, 6, -13, 20, -13, 6],\n",
    "    [0, 0, 0, 0, 0, 0, 0, 0, 0, 0, 0, -1, 6, -13, 20, -13],\n",
    "    [0, 0, 0, 0, 0, 0, 0, 0, 0, 0, 0, 0, -1, 6, -13, 20]\n",
    "    ]\n",
    "b = [7, 6, 5, 4, 5, 6, 7, 8, 9, 8, 7, 6, 5, 4, 3, 2]\n",
    "x0 = [0, 0, 0, 0, 0, 0, 0, 0, 0, 0, 0, 0, 0, 0, 0, 0]\n",
    "\n",
    "result = gauss_seidel(A, b, x0)\n",
    "print(result)\n",
    "print(cal_error(A, b, result))\n"
   ]
  },
  {
   "cell_type": "code",
   "execution_count": 53,
   "metadata": {},
   "outputs": [
    {
     "name": "stdout",
     "output_type": "stream",
     "text": [
      "[-1183.941775, 1772.5780160264067, -209.8953737492022, 12.4, -807.38215375, 2993.1328890421646, -2631.340753145053, -157.59000000000003, 1034.3086000625, 275.8449439836567, -509.38335709890583, -1120.8335000000002, 1603.4276400406252, -1065.1929334415609, 0, 0]\n"
     ]
    },
    {
     "ename": "IndexError",
     "evalue": "pop from empty list",
     "output_type": "error",
     "traceback": [
      "\u001b[0;31m---------------------------------------------------------------------------\u001b[0m",
      "\u001b[0;31mIndexError\u001b[0m                                Traceback (most recent call last)",
      "Cell \u001b[0;32mIn[53], line 22\u001b[0m\n\u001b[1;32m     19\u001b[0m b \u001b[38;5;241m=\u001b[39m [\u001b[38;5;241m248\u001b[39m, \u001b[38;5;241m-\u001b[39m\u001b[38;5;241m682\u001b[39m, \u001b[38;5;241m24710\u001b[39m, \u001b[38;5;241m-\u001b[39m\u001b[38;5;241m9624\u001b[39m, \u001b[38;5;241m-\u001b[39m\u001b[38;5;241m3313\u001b[39m, \u001b[38;5;241m30311\u001b[39m, \u001b[38;5;241m-\u001b[39m\u001b[38;5;241m29996\u001b[39m, \u001b[38;5;241m30995\u001b[39m, \u001b[38;5;241m-\u001b[39m\u001b[38;5;241m20368\u001b[39m, \u001b[38;5;241m10952\u001b[39m, \u001b[38;5;241m5665\u001b[39m, \u001b[38;5;241m11476\u001b[39m, \u001b[38;5;241m-\u001b[39m\u001b[38;5;241m9108\u001b[39m, \u001b[38;5;241m7882\u001b[39m, \u001b[38;5;241m20391\u001b[39m, \u001b[38;5;241m-\u001b[39m\u001b[38;5;241m31505\u001b[39m]\n\u001b[1;32m     20\u001b[0m x0 \u001b[38;5;241m=\u001b[39m [\u001b[38;5;241m0\u001b[39m, \u001b[38;5;241m0\u001b[39m, \u001b[38;5;241m0\u001b[39m, \u001b[38;5;241m0\u001b[39m, \u001b[38;5;241m0\u001b[39m, \u001b[38;5;241m0\u001b[39m, \u001b[38;5;241m0\u001b[39m, \u001b[38;5;241m0\u001b[39m, \u001b[38;5;241m0\u001b[39m, \u001b[38;5;241m0\u001b[39m, \u001b[38;5;241m0\u001b[39m, \u001b[38;5;241m0\u001b[39m, \u001b[38;5;241m0\u001b[39m, \u001b[38;5;241m0\u001b[39m, \u001b[38;5;241m0\u001b[39m, \u001b[38;5;241m0\u001b[39m]\n\u001b[0;32m---> 22\u001b[0m result \u001b[38;5;241m=\u001b[39m \u001b[43mpipelined_gauss_seidel\u001b[49m\u001b[43m(\u001b[49m\u001b[43mA\u001b[49m\u001b[43m,\u001b[49m\u001b[43m \u001b[49m\u001b[43mb\u001b[49m\u001b[43m,\u001b[49m\u001b[43m \u001b[49m\u001b[43mx0\u001b[49m\u001b[43m,\u001b[49m\u001b[38;5;241;43m1\u001b[39;49m\u001b[43m)\u001b[49m\n\u001b[1;32m     23\u001b[0m \u001b[38;5;28mprint\u001b[39m(result)\n\u001b[1;32m     24\u001b[0m \u001b[38;5;28mprint\u001b[39m(cal_error(A, b, result))\n",
      "Cell \u001b[0;32mIn[52], line 28\u001b[0m, in \u001b[0;36mpipelined_gauss_seidel\u001b[0;34m(A, b, x0, max_iterations)\u001b[0m\n\u001b[1;32m     26\u001b[0m \u001b[38;5;28;01mif\u001b[39;00m \u001b[38;5;28mlen\u001b[39m(prev) \u001b[38;5;241m>\u001b[39m \u001b[38;5;241m0\u001b[39m:\n\u001b[1;32m     27\u001b[0m     \u001b[38;5;28;01mfor\u001b[39;00m i \u001b[38;5;129;01min\u001b[39;00m \u001b[38;5;28mrange\u001b[39m(\u001b[38;5;241m3\u001b[39m, n, \u001b[38;5;241m4\u001b[39m):\n\u001b[0;32m---> 28\u001b[0m         x[i\u001b[38;5;241m-\u001b[39m\u001b[38;5;241m1\u001b[39m] \u001b[38;5;241m=\u001b[39m \u001b[43mprev\u001b[49m\u001b[38;5;241;43m.\u001b[39;49m\u001b[43mpop\u001b[49m\u001b[43m(\u001b[49m\u001b[38;5;241;43m0\u001b[39;49m\u001b[43m)\u001b[49m\n\u001b[1;32m     29\u001b[0m \u001b[38;5;28;01mreturn\u001b[39;00m x\n",
      "\u001b[0;31mIndexError\u001b[0m: pop from empty list"
     ]
    }
   ],
   "source": [
    "A = [\n",
    "    [20, -13, 6, -1, 0, 0, 0, 0, 0, 0, 0, 0, 0, 0, 0, 0], \n",
    "    [-13, 20, -13, 6, -1, 0, 0, 0, 0, 0, 0, 0, 0, 0, 0, 0],\n",
    "    [6, -13, 20, -13, 6, -1, 0, 0, 0, 0, 0, 0, 0, 0, 0, 0],\n",
    "    [-1, 6, -13, 20, -13, 6, -1, 0, 0, 0, 0, 0, 0, 0, 0, 0],\n",
    "    [0, -1, 6, -13, 20, -13, 6, -1, 0, 0, 0, 0, 0, 0, 0, 0],\n",
    "    [0, 0, -1, 6, -13, 20, -13, 6, -1, 0, 0, 0, 0, 0, 0, 0],\n",
    "    [0, 0, 0, -1, 6, -13, 20, -13, 6, -1, 0, 0, 0, 0, 0, 0],\n",
    "    [0, 0, 0, 0, -1, 6, -13, 20, -13, 6, -1, 0, 0, 0, 0, 0],\n",
    "    [0, 0, 0, 0, 0, -1, 6, -13, 20, -13, 6, -1, 0, 0, 0, 0],\n",
    "    [0, 0, 0, 0, 0, 0, -1, 6, -13, 20, -13, 6, -1, 0, 0, 0],\n",
    "    [0, 0, 0, 0, 0, 0, 0, -1, 6, -13, 20, -13, 6, -1, 0, 0],\n",
    "    [0, 0, 0, 0, 0, 0, 0, 0, -1, 6, -13, 20, -13, 6, -1, 0],\n",
    "    [0, 0, 0, 0, 0, 0, 0, 0, 0, -1, 6, -13, 20, -13, 6, -1],\n",
    "    [0, 0, 0, 0, 0, 0, 0, 0, 0, 0, -1, 6, -13, 20, -13, 6],\n",
    "    [0, 0, 0, 0, 0, 0, 0, 0, 0, 0, 0, -1, 6, -13, 20, -13],\n",
    "    [0, 0, 0, 0, 0, 0, 0, 0, 0, 0, 0, 0, -1, 6, -13, 20]\n",
    "    ]\n",
    "b = [248, -682, 24710, -9624, -3313, 30311, -29996, 30995, -20368, 10952, 5665, 11476, -9108, 7882, 20391, -31505]\n",
    "x0 = [0, 0, 0, 0, 0, 0, 0, 0, 0, 0, 0, 0, 0, 0, 0, 0]\n",
    "\n",
    "result = pipelined_gauss_seidel(A, b, x0,1)\n",
    "print(result)\n",
    "print(cal_error(A, b, result))\n"
   ]
  },
  {
   "cell_type": "markdown",
   "metadata": {},
   "source": []
  },
  {
   "cell_type": "code",
   "execution_count": null,
   "metadata": {},
   "outputs": [],
   "source": []
  }
 ],
 "metadata": {
  "kernelspec": {
   "display_name": "base",
   "language": "python",
   "name": "python3"
  },
  "language_info": {
   "codemirror_mode": {
    "name": "ipython",
    "version": 3
   },
   "file_extension": ".py",
   "mimetype": "text/x-python",
   "name": "python",
   "nbconvert_exporter": "python",
   "pygments_lexer": "ipython3",
   "version": "3.10.14"
  }
 },
 "nbformat": 4,
 "nbformat_minor": 2
}

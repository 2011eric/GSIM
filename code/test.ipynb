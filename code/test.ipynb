{
 "cells": [
  {
   "cell_type": "code",
   "execution_count": 3,
   "metadata": {},
   "outputs": [],
   "source": [
    "def gauss_seidel(A, b, x0, max_iterations=50):\n",
    "    n = len(A)\n",
    "    x = x0.copy()\n",
    "\n",
    "    for _ in range(max_iterations):\n",
    "        for i in range(n):\n",
    "            sum_ax = sum(A[i][j] * x[j] for j in range(n) if j != i)\n",
    "            x[i] = (b[i] - sum_ax) / A[i][i]\n",
    "    return x\n"
   ]
  },
  {
   "cell_type": "code",
   "execution_count": 43,
   "metadata": {},
   "outputs": [],
   "source": [
    "#compute Error\n",
    "def cal_error(A, b, x):\n",
    "    sum_err = 0\n",
    "    for i in range (16):\n",
    "        sum_err = sum_err + (sum(A[i][j] * x[j] for j in range(16))-b[i])**2\n",
    "    return sum_err"
   ]
  },
  {
   "cell_type": "code",
   "execution_count": 44,
   "metadata": {},
   "outputs": [],
   "source": [
    "def pipelined_gauss_seidel(A, b, x0, max_iterations=100):\n",
    "    n = len(A)\n",
    "    x = x0.copy()\n",
    "    prev = []\n",
    "    for _  in range(max_iterations):\n",
    "        for i in range(0, n, 4):\n",
    "            if len(prev) == 4:\n",
    "                #x[(i-1)%16] = prev.pop(0)\n",
    "                x[i+3] = prev.pop(0)\n",
    "            tmp = 1/20 * (b[i] + 13*((x[i-1] if i-1 >= 0 else 0) + (x[i+1] if i+1 < n else 0)) - 6 * ((x[i-2] if i-2 >= 0 else 0) + (x[i+2] if i+2 < n else 0)) + (x[i-3] if i-3 >= 0 else 0) + (x[i+3] if i+3 < n else 0)) \n",
    "            prev.append(tmp)\n",
    "            #print(len(prev))\n",
    "        for i in range(1, n, 4):\n",
    "            x[i-1] = prev.pop(0)\n",
    "            tmp = 1/20 * (b[i] + 13*((x[i-1] if i-1 >= 0 else 0) + (x[i+1] if i+1 < n else 0)) - 6 * ((x[i-2] if i-2 >= 0 else 0) + (x[i+2] if i+2 < n else 0)) + (x[i-3] if i-3 >= 0 else 0) + (x[i+3] if i+3 < n else 0)) \n",
    "            prev.append(tmp)\n",
    "        for i in range(2, n, 4):\n",
    "            x[i-1] = prev.pop(0)\n",
    "            tmp = 1/20 * (b[i] + 13*((x[i-1] if i-1 >= 0 else 0) + (x[i+1] if i+1 < n else 0)) - 6 * ((x[i-2] if i-2 >= 0 else 0) + (x[i+2] if i+2 < n else 0)) + (x[i-3] if i-3 >= 0 else 0) + (x[i+3] if i+3 < n else 0)) \n",
    "            prev.append(tmp)\n",
    "        for i in range(3, n, 4):\n",
    "            x[i-1] = prev.pop(0)\n",
    "            #if i == 11:\n",
    "            #    print(x)\n",
    "            tmp = 1/20 * (b[i] + 13*((x[i-1] if i-1 >= 0 else 0) + (x[i+1] if i+1 < n else 0)) - 6 * ((x[i-2] if i-2 >= 0 else 0) + (x[i+2] if i+2 < n else 0)) + (x[i-3] if i-3 >= 0 else 0) + (x[i+3] if i+3 < n else 0)) \n",
    "            prev.append(tmp)\n",
    "    \n",
    "    #if len(prev) > 0:\n",
    "    #    for i in range(3, n, 4):\n",
    "    #        x[i-1] = prev.pop(0)\n",
    "    #return x\n",
    "    for i in range(3, n, 4):\n",
    "        if len(prev)>0:\n",
    "            #print(len(prev))\n",
    "            x[i] = prev.pop(0)\n",
    "    return x"
   ]
  },
  {
   "cell_type": "code",
   "execution_count": 27,
   "metadata": {},
   "outputs": [
    {
     "ename": "NameError",
     "evalue": "name 'gauss_seidel' is not defined",
     "output_type": "error",
     "traceback": [
      "\u001b[1;31m---------------------------------------------------------------------------\u001b[0m",
      "\u001b[1;31mNameError\u001b[0m                                 Traceback (most recent call last)",
      "Cell \u001b[1;32mIn[27], line 22\u001b[0m\n\u001b[0;32m     19\u001b[0m b \u001b[38;5;241m=\u001b[39m [\u001b[38;5;241m7\u001b[39m, \u001b[38;5;241m6\u001b[39m, \u001b[38;5;241m5\u001b[39m, \u001b[38;5;241m4\u001b[39m, \u001b[38;5;241m5\u001b[39m, \u001b[38;5;241m6\u001b[39m, \u001b[38;5;241m7\u001b[39m, \u001b[38;5;241m8\u001b[39m, \u001b[38;5;241m9\u001b[39m, \u001b[38;5;241m8\u001b[39m, \u001b[38;5;241m7\u001b[39m, \u001b[38;5;241m6\u001b[39m, \u001b[38;5;241m5\u001b[39m, \u001b[38;5;241m4\u001b[39m, \u001b[38;5;241m3\u001b[39m, \u001b[38;5;241m2\u001b[39m]\n\u001b[0;32m     20\u001b[0m x0 \u001b[38;5;241m=\u001b[39m [\u001b[38;5;241m0\u001b[39m, \u001b[38;5;241m0\u001b[39m, \u001b[38;5;241m0\u001b[39m, \u001b[38;5;241m0\u001b[39m, \u001b[38;5;241m0\u001b[39m, \u001b[38;5;241m0\u001b[39m, \u001b[38;5;241m0\u001b[39m, \u001b[38;5;241m0\u001b[39m, \u001b[38;5;241m0\u001b[39m, \u001b[38;5;241m0\u001b[39m, \u001b[38;5;241m0\u001b[39m, \u001b[38;5;241m0\u001b[39m, \u001b[38;5;241m0\u001b[39m, \u001b[38;5;241m0\u001b[39m, \u001b[38;5;241m0\u001b[39m, \u001b[38;5;241m0\u001b[39m]\n\u001b[1;32m---> 22\u001b[0m result \u001b[38;5;241m=\u001b[39m \u001b[43mgauss_seidel\u001b[49m(A, b, x0)\n\u001b[0;32m     23\u001b[0m \u001b[38;5;28mprint\u001b[39m(result)\n\u001b[0;32m     24\u001b[0m \u001b[38;5;28mprint\u001b[39m(cal_error(A, b, result))\n",
      "\u001b[1;31mNameError\u001b[0m: name 'gauss_seidel' is not defined"
     ]
    }
   ],
   "source": [
    "A = [\n",
    "    [20, -13, 6, -1, 0, 0, 0, 0, 0, 0, 0, 0, 0, 0, 0, 0], \n",
    "    [-13, 20, -13, 6, -1, 0, 0, 0, 0, 0, 0, 0, 0, 0, 0, 0],\n",
    "    [6, -13, 20, -13, 6, -1, 0, 0, 0, 0, 0, 0, 0, 0, 0, 0],\n",
    "    [-1, 6, -13, 20, -13, 6, -1, 0, 0, 0, 0, 0, 0, 0, 0, 0],\n",
    "    [0, -1, 6, -13, 20, -13, 6, -1, 0, 0, 0, 0, 0, 0, 0, 0],\n",
    "    [0, 0, -1, 6, -13, 20, -13, 6, -1, 0, 0, 0, 0, 0, 0, 0],\n",
    "    [0, 0, 0, -1, 6, -13, 20, -13, 6, -1, 0, 0, 0, 0, 0, 0],\n",
    "    [0, 0, 0, 0, -1, 6, -13, 20, -13, 6, -1, 0, 0, 0, 0, 0],\n",
    "    [0, 0, 0, 0, 0, -1, 6, -13, 20, -13, 6, -1, 0, 0, 0, 0],\n",
    "    [0, 0, 0, 0, 0, 0, -1, 6, -13, 20, -13, 6, -1, 0, 0, 0],\n",
    "    [0, 0, 0, 0, 0, 0, 0, -1, 6, -13, 20, -13, 6, -1, 0, 0],\n",
    "    [0, 0, 0, 0, 0, 0, 0, 0, -1, 6, -13, 20, -13, 6, -1, 0],\n",
    "    [0, 0, 0, 0, 0, 0, 0, 0, 0, -1, 6, -13, 20, -13, 6, -1],\n",
    "    [0, 0, 0, 0, 0, 0, 0, 0, 0, 0, -1, 6, -13, 20, -13, 6],\n",
    "    [0, 0, 0, 0, 0, 0, 0, 0, 0, 0, 0, -1, 6, -13, 20, -13],\n",
    "    [0, 0, 0, 0, 0, 0, 0, 0, 0, 0, 0, 0, -1, 6, -13, 20]\n",
    "    ]\n",
    "b = [7, 6, 5, 4, 5, 6, 7, 8, 9, 8, 7, 6, 5, 4, 3, 2]\n",
    "x0 = [0, 0, 0, 0, 0, 0, 0, 0, 0, 0, 0, 0, 0, 0, 0, 0]\n",
    "\n",
    "result = gauss_seidel(A, b, x0)\n",
    "print(result)\n",
    "print(cal_error(A, b, result))\n"
   ]
  },
  {
   "cell_type": "code",
   "execution_count": 48,
   "metadata": {},
   "outputs": [
    {
     "name": "stdout",
     "output_type": "stream",
     "text": [
      "result =  [402.13377170043947, 1690.3738909776935, 2457.259899323769, 563.3742473340944, 697.6055804439801, 1734.9083013357667, 27.79309186538581, 607.3825320429258, -475.7359366141622, 869.9246191540868, 1907.299565088445, 1523.93594294528, 596.282970982489, 1476.7036684978132, 1011.6515525111922, -1330.8734428679447]\n",
      "error =  4.404205432331579e-13\n"
     ]
    }
   ],
   "source": [
    "A = [\n",
    "    [20, -13, 6, -1, 0, 0, 0, 0, 0, 0, 0, 0, 0, 0, 0, 0], \n",
    "    [-13, 20, -13, 6, -1, 0, 0, 0, 0, 0, 0, 0, 0, 0, 0, 0],\n",
    "    [6, -13, 20, -13, 6, -1, 0, 0, 0, 0, 0, 0, 0, 0, 0, 0],\n",
    "    [-1, 6, -13, 20, -13, 6, -1, 0, 0, 0, 0, 0, 0, 0, 0, 0],\n",
    "    [0, -1, 6, -13, 20, -13, 6, -1, 0, 0, 0, 0, 0, 0, 0, 0],\n",
    "    [0, 0, -1, 6, -13, 20, -13, 6, -1, 0, 0, 0, 0, 0, 0, 0],\n",
    "    [0, 0, 0, -1, 6, -13, 20, -13, 6, -1, 0, 0, 0, 0, 0, 0],\n",
    "    [0, 0, 0, 0, -1, 6, -13, 20, -13, 6, -1, 0, 0, 0, 0, 0],\n",
    "    [0, 0, 0, 0, 0, -1, 6, -13, 20, -13, 6, -1, 0, 0, 0, 0],\n",
    "    [0, 0, 0, 0, 0, 0, -1, 6, -13, 20, -13, 6, -1, 0, 0, 0],\n",
    "    [0, 0, 0, 0, 0, 0, 0, -1, 6, -13, 20, -13, 6, -1, 0, 0],\n",
    "    [0, 0, 0, 0, 0, 0, 0, 0, -1, 6, -13, 20, -13, 6, -1, 0],\n",
    "    [0, 0, 0, 0, 0, 0, 0, 0, 0, -1, 6, -13, 20, -13, 6, -1],\n",
    "    [0, 0, 0, 0, 0, 0, 0, 0, 0, 0, -1, 6, -13, 20, -13, 6],\n",
    "    [0, 0, 0, 0, 0, 0, 0, 0, 0, 0, 0, -1, 6, -13, 20, -13],\n",
    "    [0, 0, 0, 0, 0, 0, 0, 0, 0, 0, 0, 0, -1, 6, -13, 20]\n",
    "    ]\n",
    "b = [248, -682, 24710, -9624, -3313, 30311, -29996, 30995, -20368, 10952, 5665, 11476, -9108, 7882, 20391, -31505]\n",
    "x0 = [0, 0, 0, 0, 0, 0, 0, 0, 0, 0, 0, 0, 0, 0, 0, 0]\n",
    "x0 = b\n",
    "result = pipelined_gauss_seidel(A, b, x0,100)\n",
    "print(\"result = \", result)\n",
    "print(\"error = \", cal_error(A, b, result))\n"
   ]
  },
  {
   "cell_type": "markdown",
   "metadata": {},
   "source": []
  },
  {
   "cell_type": "code",
   "execution_count": null,
   "metadata": {},
   "outputs": [],
   "source": []
  }
 ],
 "metadata": {
  "kernelspec": {
   "display_name": "base",
   "language": "python",
   "name": "python3"
  },
  "language_info": {
   "codemirror_mode": {
    "name": "ipython",
    "version": 3
   },
   "file_extension": ".py",
   "mimetype": "text/x-python",
   "name": "python",
   "nbconvert_exporter": "python",
   "pygments_lexer": "ipython3",
   "version": "3.11.4"
  }
 },
 "nbformat": 4,
 "nbformat_minor": 2
}
